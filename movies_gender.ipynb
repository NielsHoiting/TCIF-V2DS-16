{
 "cells": [
  {
   "cell_type": "markdown",
   "metadata": {},
   "source": [
    "# What is the correlation between the gender of the cast and the popularity of the movie.\n",
    "\n",
    "In order to find a correlation between gender of actors and popularity we need to define what a 'popular' movie is.\n"
   ]
  },
  {
   "cell_type": "code",
   "execution_count": null,
   "metadata": {
    "scrolled": true
   },
   "outputs": [],
   "source": [
    "# imports \n",
    "\n",
    "import pandas as pd\n",
    "import numpy as np\n",
    "import matplotlib.pyplot as plt\n",
    "from sklearn import preprocessing\n",
    "import json"
   ]
  },
  {
   "cell_type": "code",
   "execution_count": null,
   "metadata": {},
   "outputs": [],
   "source": [
    "%%html\n",
    "<style>\n",
    "  table {margin-left: 0 !important;}\n",
    "</style>"
   ]
  },
  {
   "cell_type": "code",
   "execution_count": null,
   "metadata": {},
   "outputs": [],
   "source": [
    "# Load dataset\n",
    "df_movies = pd.read_csv('movie.csv')"
   ]
  },
  {
   "cell_type": "markdown",
   "metadata": {},
   "source": [
    "## What is popularity\n",
    "\n",
    "There are a couple of fields that can indicate popularity\n",
    "- `movie_facebook_likes`\n",
    "- `num_critic_for_reviews`\n",
    "- `gross`\n",
    "- `imdb_score`"
   ]
  },
  {
   "cell_type": "code",
   "execution_count": null,
   "metadata": {},
   "outputs": [],
   "source": [
    "print(\"Total shape\", df_movies.shape)\n",
    "print(\"After dropping NAs\", df_movies.dropna().shape)\n",
    "\n",
    "print(\"movie_facebook_likes > 0\", df_movies[df_movies.movie_facebook_likes > 0].shape)\n",
    "print(\"num_critic_for_reviews > 0\", df_movies[df_movies.num_critic_for_reviews > 0].shape)\n",
    "print(\"gross > 0\", df_movies[df_movies.gross > 0].shape)"
   ]
  },
  {
   "cell_type": "markdown",
   "metadata": {},
   "source": [
    "## Cast and gender\n",
    "Our current dataset does not contain data about the gender. We will join the dataset with another dataset from the same source: The Movie Database. First we will need to remove the movie titles trailing spaces.\n",
    "\n",
    "\n"
   ]
  },
  {
   "cell_type": "code",
   "execution_count": null,
   "metadata": {
    "scrolled": true
   },
   "outputs": [],
   "source": [
    "# Fixing trailing characters\n",
    "df_movies['movie_title'] = df_movies.movie_title.str.replace('[^\\x00-\\x7F]','')"
   ]
  },
  {
   "cell_type": "markdown",
   "metadata": {},
   "source": [
    "Inner joining based on the title of the movie."
   ]
  },
  {
   "cell_type": "code",
   "execution_count": null,
   "metadata": {
    "scrolled": false
   },
   "outputs": [],
   "source": [
    "# A credits dataset we can join with our movie dataset.\n",
    "df_credits = pd.read_csv('tmdb_5000_credits.csv')\n",
    "df_credits = df_credits.rename(columns={'title': 'movie_title'})\n",
    "\n",
    "# Joining the two datasets\n",
    "movie_with_cast = pd.merge(df_movies, df_credits, how=\"inner\", on=\"movie_title\")\n",
    "movie_with_cast.shape"
   ]
  },
  {
   "cell_type": "markdown",
   "metadata": {},
   "source": [
    "The credits dataset adds a column called `cast`. This column contains an array with objects. Each object represents a actor/actress.\n",
    "The genders of the actors are stored in the `gender` field in the object. Possible three possible values are:\n",
    "\n",
    "|Value   | Gender  |\n",
    "|---|---|\n",
    "| 0  | Unknown  |\n",
    "| 1  | Female  |\n",
    "| 2  | Male  |"
   ]
  },
  {
   "cell_type": "markdown",
   "metadata": {
    "scrolled": true
   },
   "source": [
    "Ideally we have one value that represents the share of males and females within the cast of a movie. The first step toward this value is creating a vector for each possible value."
   ]
  },
  {
   "cell_type": "code",
   "execution_count": null,
   "metadata": {},
   "outputs": [],
   "source": [
    "# cast is a nested field, this function will return the gender for the given cast and name.\n",
    "def actor_to_gender(cast):\n",
    "    cast = json.loads(cast)\n",
    "    ratio = [0, 0, 0]\n",
    "    for actor in cast:\n",
    "        ratio[actor['gender']] += 1\n",
    "    return ratio\n",
    "\n",
    "movie_with_cast['gender_ratio'] = movie_with_cast.apply(lambda movie: actor_to_gender(movie.cast), axis=1)\n",
    "movie_with_cast['unknown_actors'] = movie_with_cast.apply(lambda movie: movie['gender_ratio'][0], axis=1)\n",
    "movie_with_cast['female_actors'] = movie_with_cast.apply(lambda movie: movie['gender_ratio'][1], axis=1)\n",
    "movie_with_cast['male_actors'] = movie_with_cast.apply(lambda movie: movie['gender_ratio'][2], axis=1)\n",
    "movie_with_cast.head(3)"
   ]
  },
  {
   "cell_type": "markdown",
   "metadata": {},
   "source": [
    "We now have a vector that represents a the ratio between genders. Now we can try to find the correlation between values in that vector and the popularity of the movie. We start of by normalizing the data."
   ]
  },
  {
   "cell_type": "code",
   "execution_count": null,
   "metadata": {},
   "outputs": [],
   "source": [
    "\n",
    "male = movie_with_cast.male_actors;\n",
    "plt.hist(male, bins=range(0, 50, 1))\n",
    "plt.title(\"Frequency male\")\n",
    "plt.show();\n",
    "\n",
    "female = movie_with_cast.female_actors\n",
    "plt.title(\"Frequency female\")\n",
    "plt.hist(female, bins=range(0, 50, 1))\n",
    "plt.show();\n",
    "\n",
    "unknown = movie_with_cast.unknown_actors\n",
    "plt.title(\"Frequency unknown\")\n",
    "plt.hist(unknown, bins=range(0, 50, 1))\n",
    "plt.show();"
   ]
  },
  {
   "cell_type": "code",
   "execution_count": null,
   "metadata": {
    "scrolled": true
   },
   "outputs": [],
   "source": [
    "\n",
    "# cast is a nested field, this function will return the gender for the given cast and name.\n",
    "def actor_to_gender(cast, name):\n",
    "    cast = json.loads(cast)\n",
    "    for actor in cast:\n",
    "        if name == actor['name']:\n",
    "            return actor['gender']\n",
    "    return 0\n",
    " \n",
    "movie_with_cast['actor_1_gender'] = movie_with_cast.apply(lambda movie: actor_to_gender(movie.cast, movie.actor_1_name), axis=1)\n",
    "movie_with_cast['actor_2_gender'] = movie_with_cast.apply(lambda movie: actor_to_gender(movie.cast, movie.actor_2_name), axis=1)\n",
    "movie_with_cast['actor_3_gender'] = movie_with_cast.apply(lambda movie: actor_to_gender(movie.cast, movie.actor_3_name), axis=1)\n"
   ]
  },
  {
   "cell_type": "code",
   "execution_count": null,
   "metadata": {
    "scrolled": true
   },
   "outputs": [],
   "source": [
    "movie_with_cast.actor_1_gender.value_counts().plot(kind='pie', labels=['Male', 'Female', 'Unknown'])\n",
    "plt.show();\n",
    "\n",
    "movie_with_cast.actor_2_gender.value_counts().plot(kind='pie', labels=['Male', 'Female', 'Unknown'])\n",
    "plt.show();\n",
    "\n",
    "movie_with_cast.actor_3_gender.value_counts().plot(kind='pie', labels=['Male', 'Female', 'Unknown'])\n",
    "plt.show();"
   ]
  },
  {
   "cell_type": "code",
   "execution_count": null,
   "metadata": {},
   "outputs": [],
   "source": [
    "movie_with_cast"
   ]
  },
  {
   "cell_type": "code",
   "execution_count": null,
   "metadata": {},
   "outputs": [],
   "source": []
  }
 ],
 "metadata": {
  "kernelspec": {
   "display_name": "Python 3",
   "language": "python",
   "name": "python3"
  },
  "language_info": {
   "codemirror_mode": {
    "name": "ipython",
    "version": 3
   },
   "file_extension": ".py",
   "mimetype": "text/x-python",
   "name": "python",
   "nbconvert_exporter": "python",
   "pygments_lexer": "ipython3",
   "version": "3.7.4"
  }
 },
 "nbformat": 4,
 "nbformat_minor": 2
}
