{
 "cells": [
  {
   "cell_type": "markdown",
   "metadata": {},
   "source": [
    "# What is the correlation between the gender of the cast and the popularity of the movie.\n",
    "\n",
    "In order to find a correlation between gender of actors and popularity we need to define what a 'popular' movie is.\n"
   ]
  },
  {
   "cell_type": "code",
   "execution_count": null,
   "metadata": {
    "scrolled": true
   },
   "outputs": [],
   "source": [
    "# imports \n",
    "\n",
    "import pandas as pd\n",
    "import numpy as np\n",
    "import matplotlib.pyplot as plt\n",
    "from sklearn import preprocessing\n",
    "import json\n",
    "import seaborn as sns; sns.set(color_codes=True)\n",
    "\n",
    "import holoviews as hv\n",
    "hv.extension('matplotlib')"
   ]
  },
  {
   "cell_type": "code",
   "execution_count": null,
   "metadata": {},
   "outputs": [],
   "source": [
    "%%html\n",
    "<style>\n",
    "  table {margin-left: 0 !important;}\n",
    "</style>"
   ]
  },
  {
   "cell_type": "code",
   "execution_count": null,
   "metadata": {},
   "outputs": [],
   "source": [
    "# Load dataset\n",
    "df_movies = pd.read_csv('movie.csv')\n",
    "\n",
    "# Place genres into a array\n",
    "df_movies.genres = df_movies.genres.str.split(pat = \"|\");\n",
    "\n",
    "# Get the unique genres\n",
    "movie_genres = df_movies.genres.explode().unique()"
   ]
  },
  {
   "cell_type": "markdown",
   "metadata": {},
   "source": [
    "## What is popularity\n",
    "\n",
    "There are a couple of fields that can indicate popularity\n",
    "- `movie_facebook_likes`\n",
    "- `num_critic_for_reviews`\n",
    "- `gross`\n",
    "- `imdb_score`"
   ]
  },
  {
   "cell_type": "code",
   "execution_count": null,
   "metadata": {},
   "outputs": [],
   "source": [
    "print(\"Total shape\", df_movies.shape)\n",
    "print(\"After dropping NAs\", df_movies.dropna().shape)\n",
    "\n",
    "print(\"movie_facebook_likes > 0\", df_movies[df_movies.movie_facebook_likes > 0].shape)\n",
    "print(\"num_critic_for_reviews > 0\", df_movies[df_movies.num_critic_for_reviews > 0].shape)\n",
    "print(\"gross > 0\", df_movies[df_movies.gross > 0].shape)"
   ]
  },
  {
   "cell_type": "markdown",
   "metadata": {},
   "source": [
    "## Cast and gender\n",
    "Our current dataset does not contain data about the gender. We will join the dataset with another dataset from the same source: The Movie Database. First we will need to remove the movie titles trailing spaces.\n",
    "\n",
    "\n"
   ]
  },
  {
   "cell_type": "code",
   "execution_count": null,
   "metadata": {
    "scrolled": true
   },
   "outputs": [],
   "source": [
    "# Fixing trailing characters\n",
    "df_movies['movie_title'] = df_movies.movie_title.str.replace('[^\\x00-\\x7F]','')"
   ]
  },
  {
   "cell_type": "markdown",
   "metadata": {},
   "source": [
    "Inner joining based on the title of the movie."
   ]
  },
  {
   "cell_type": "code",
   "execution_count": null,
   "metadata": {
    "scrolled": false
   },
   "outputs": [],
   "source": [
    "# A credits dataset we can join with our movie dataset.\n",
    "df_credits = pd.read_csv('tmdb_5000_credits.csv')\n",
    "df_credits = df_credits.rename(columns={'title': 'movie_title'})\n",
    "\n",
    "# Joining the two datasets\n",
    "movie_with_cast = pd.merge(df_movies, df_credits, how=\"inner\", on=\"movie_title\")\n",
    "movie_with_cast.shape"
   ]
  },
  {
   "cell_type": "markdown",
   "metadata": {},
   "source": [
    "The credits dataset adds a column called `cast`. This column contains an array with objects. Each object represents a actor/actress.\n",
    "The genders of the actors are stored in the `gender` field in the object. Possible three possible values are:\n",
    "\n",
    "|Value   | Gender  |\n",
    "|---|---|\n",
    "| 0  | Unknown  |\n",
    "| 1  | Female  |\n",
    "| 2  | Male  |"
   ]
  },
  {
   "cell_type": "markdown",
   "metadata": {
    "scrolled": true
   },
   "source": [
    "Ideally we have one value that represents the share of males and females within the cast of a movie. The first step toward this value is creating a vector for each possible value."
   ]
  },
  {
   "cell_type": "code",
   "execution_count": null,
   "metadata": {},
   "outputs": [],
   "source": [
    "# cast is a nested field, this function will return the gender for the given cast and name.\n",
    "def actor_to_gender(cast):\n",
    "    cast = json.loads(cast)\n",
    "    ratio = [0, 0, 0]\n",
    "    for actor in cast:\n",
    "        ratio[actor['gender']] += 1\n",
    "    return ratio\n",
    "\n",
    "movie_with_cast['gender_ratio'] = movie_with_cast.apply(lambda movie: actor_to_gender(movie.cast), axis=1)\n",
    "movie_with_cast['unknown_actors'] = movie_with_cast.apply(lambda movie: movie['gender_ratio'][0], axis=1)\n",
    "movie_with_cast['female_actors'] = movie_with_cast.apply(lambda movie: movie['gender_ratio'][1], axis=1)\n",
    "movie_with_cast['male_actors'] = movie_with_cast.apply(lambda movie: movie['gender_ratio'][2], axis=1)\n",
    "movie_with_cast['total_known_actors'] = movie_with_cast.female_actors + movie_with_cast.male_actors\n",
    "movie_with_cast.head(3)"
   ]
  },
  {
   "cell_type": "code",
   "execution_count": null,
   "metadata": {},
   "outputs": [],
   "source": [
    "male = movie_with_cast.male_actors;\n",
    "plt.hist(male, bins=range(0, 50, 1))\n",
    "plt.title(\"Frequency male\")\n",
    "plt.show();\n",
    "\n",
    "female = movie_with_cast.female_actors\n",
    "plt.title(\"Frequency female\")\n",
    "plt.hist(female, bins=range(0, 50, 1))\n",
    "plt.show();\n",
    "\n",
    "unknown = movie_with_cast.unknown_actors\n",
    "plt.title(\"Frequency unknown\")\n",
    "plt.hist(unknown, bins=range(0, 50, 1))\n",
    "plt.show();"
   ]
  },
  {
   "cell_type": "code",
   "execution_count": null,
   "metadata": {
    "scrolled": true
   },
   "outputs": [],
   "source": [
    "movie_with_cast['ratio'] = movie_with_cast.male_actors / (movie_with_cast.male_actors + movie_with_cast.female_actors)\n",
    "movie_with_cast.title_year = movie_with_cast.title_year.astype(int)\n",
    "\n",
    "filtered = movie_with_cast.dropna();\n",
    "filtered[['ratio', 'gender_ratio', 'imdb_score', 'gross', 'movie_facebook_likes', 'num_critic_for_reviews', 'male_actors' , 'female_actors', 'total_known_actors']].describe()\n",
    "filtered = filtered[filtered.total_known_actors >= 20]\n",
    "\n",
    "filtered.describe()"
   ]
  },
  {
   "cell_type": "code",
   "execution_count": null,
   "metadata": {},
   "outputs": [],
   "source": [
    "sns.regplot(x=\"ratio\", y=\"imdb_score\", data=filtered);\n"
   ]
  },
  {
   "cell_type": "code",
   "execution_count": null,
   "metadata": {},
   "outputs": [],
   "source": [
    "from sklearn.metrics import r2_score\n",
    "r2_score(filtered[\"imdb_score\"], filtered[\"ratio\"])"
   ]
  },
  {
   "cell_type": "code",
   "execution_count": null,
   "metadata": {},
   "outputs": [],
   "source": [
    "def load_genre(genre, **kwargs):\n",
    "    genre_filtered = filtered[filtered.apply(lambda m: genre in m.genres, axis=1)]\n",
    "    return hv.Scatter(genre_filtered[['ratio', 'imdb_score']])\n",
    "\n",
    "genres = movie_genres\n",
    "dmap = hv.DynamicMap(load_genre, kdims='Genre').redim.values(Genre=genres)\n",
    "dmap\n",
    "\n"
   ]
  }
 ],
 "metadata": {
  "kernelspec": {
   "display_name": "Python 3",
   "language": "python",
   "name": "python3"
  },
  "language_info": {
   "codemirror_mode": {
    "name": "ipython",
    "version": 3
   },
   "file_extension": ".py",
   "mimetype": "text/x-python",
   "name": "python",
   "nbconvert_exporter": "python",
   "pygments_lexer": "ipython3",
   "version": "3.7.4"
  }
 },
 "nbformat": 4,
 "nbformat_minor": 2
}
