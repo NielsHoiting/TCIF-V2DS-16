{
 "cells": [
  {
   "cell_type": "markdown",
   "metadata": {},
   "source": [
    "# IMDB\n",
    "\n",
    "## Research questions\n",
    "1. What is the correlation between the gender of actors and the popularity of the movie. How does this change overtime?\n",
    "2. What is the correlation between duration and budget of movies.\n",
    "3. To what extend can you predict the gross of a movie based on its popularity on Facebook and IMDB.\n",
    "4. What happends if you cluster keywords?\n"
   ]
  },
  {
   "cell_type": "markdown",
   "metadata": {},
   "source": []
  },
  {
   "cell_type": "code",
   "execution_count": null,
   "metadata": {
    "tags": [
     "student"
    ]
   },
   "outputs": [],
   "source": [
    "import pandas as pd\n",
    "import numpy as np\n",
    "import matplotlib.pyplot as plt"
   ]
  },
  {
   "cell_type": "code",
   "execution_count": null,
   "metadata": {
    "tags": [
     "student"
    ]
   },
   "outputs": [],
   "source": [
    "df_movies = pd.read_csv('movie.csv') \n"
   ]
  },
  {
   "cell_type": "code",
   "execution_count": null,
   "metadata": {},
   "outputs": [],
   "source": [
    "df_movies = df_movies[['movie_imdb_link', 'movie_title', 'imdb_score', 'title_year', 'director_name', 'director_facebook_likes', 'actor_1_name',\n",
    "                      'actor_1_facebook_likes', 'actor_2_name', 'actor_2_facebook_likes', 'actor_3_name', 'actor_3_facebook_likes',\n",
    "                      'cast_total_facebook_likes', 'movie_facebook_likes', 'genres', 'budget', 'gross', 'country', 'language',\n",
    "                      'num_critic_for_reviews', 'num_user_for_reviews', 'num_voted_users', 'plot_keywords', 'color', 'content_rating',\n",
    "                      'duration', 'aspect_ratio', 'facenumber_in_poster']]"
   ]
  },
  {
   "cell_type": "markdown",
   "metadata": {},
   "source": [
    "|Column   |Description  | Notes |Type |  NaN? |\n",
    "|---|---|---|---|---|\n",
    "| movie_imdb_link  |   |   | String  |   |\n",
    "| movie_title  |   |   |  String |   |\n",
    "| imdb_score  |   |   |  Float64 |   |\n",
    "| title_year  |   |   |  float64 |   |\n",
    "| director_name  |   |   |  String |   |\n",
    "| director_facebook_likes  |   |   |  Float64 |   |\n",
    "| actor_1_name  |   |   |  String | Y  |\n",
    "| actor_1_facebook_likes  |  | ~10% missing | Float64  | Y  |\n",
    "| actor_2_name  |   |   |  String | Y  |\n",
    "| actor_2_facebook_likes  |   |   | Float64  | Y  |\n",
    "| actor_3_name  |   |   | String  |  Y |\n",
    "| actor_3_facebook_likes  |   |   | Float64 | Y  |\n",
    "| cast_total_facebook_likes  |   |   |  Int64 | Y |\n",
    "| movie_facebook_likes  |   | ~50% missing | Int64  |   |\n",
    "| genres  |   |   |  String |   |\n",
    "| budget  |   | ~350 missing | Float64  |   |\n",
    "| gross  |   |   |  Float64 |   |\n",
    "| country  |   |   | String  |   |\n",
    "| language  |   |   | String  |   |\n",
    "| num_critic_for_reviews  |   |   | Float64  |   |\n",
    "| num_user_for_reviews  |   |   | Float64  |   |\n",
    "| num_voted_users  |   |   | Int64  |   |\n",
    "| plot_keywords  |   |   | String  |   |\n",
    "| color |   |   |  String |   |\n",
    "| content_rating  |   |   | String  |   |\n",
    "| duration  |   |   | Float64  |   |\n",
    "| aspect_ratio  |   |   | Float64  |   |\n",
    "| facenumber_in_poster  |   |   | Float64  |   |"
   ]
  },
  {
   "cell_type": "code",
   "execution_count": null,
   "metadata": {
    "pycharm": {
     "is_executing": false
    }
   },
   "outputs": [],
   "source": [
    "df_movies.dtypes"
   ]
  },
  {
   "cell_type": "code",
   "execution_count": 13,
   "metadata": {
    "pycharm": {
     "is_executing": false
    }
   },
   "outputs": [
    {
     "data": {
      "text/plain": "                                        movie_imdb_link  \\\n0     http://www.imdb.com/title/tt0499549/?ref_=fn_t...   \n1     http://www.imdb.com/title/tt0449088/?ref_=fn_t...   \n2     http://www.imdb.com/title/tt2379713/?ref_=fn_t...   \n3     http://www.imdb.com/title/tt1345836/?ref_=fn_t...   \n4     http://www.imdb.com/title/tt5289954/?ref_=fn_t...   \n...                                                 ...   \n5038  http://www.imdb.com/title/tt3000844/?ref_=fn_t...   \n5039  http://www.imdb.com/title/tt2071645/?ref_=fn_t...   \n5040  http://www.imdb.com/title/tt2107644/?ref_=fn_t...   \n5041  http://www.imdb.com/title/tt2070597/?ref_=fn_t...   \n5042  http://www.imdb.com/title/tt0378407/?ref_=fn_t...   \n\n                                            movie_title  imdb_score  \\\n0                                               Avatar          7.9   \n1             Pirates of the Caribbean: At World's End          7.1   \n2                                              Spectre          6.8   \n3                                The Dark Knight Rises          8.5   \n4     Star Wars: Episode VII - The Force Awakens    ...         7.1   \n...                                                 ...         ...   \n5038                           Signed Sealed Delivered          7.7   \n5039                         The Following                      7.5   \n5040                              A Plague So Pleasant          6.3   \n5041                                  Shanghai Calling          6.3   \n5042                                 My Date with Drew          6.6   \n\n      title_year      director_name  director_facebook_likes     actor_1_name  \\\n0         2009.0      James Cameron                      0.0      CCH Pounder   \n1         2007.0     Gore Verbinski                    563.0      Johnny Depp   \n2         2015.0         Sam Mendes                      0.0  Christoph Waltz   \n3         2012.0  Christopher Nolan                  22000.0        Tom Hardy   \n4            NaN        Doug Walker                    131.0      Doug Walker   \n...          ...                ...                      ...              ...   \n5038      2013.0        Scott Smith                      2.0      Eric Mabius   \n5039         NaN                NaN                      NaN      Natalie Zea   \n5040      2013.0   Benjamin Roberds                      0.0      Eva Boehnke   \n5041      2012.0        Daniel Hsia                      0.0        Alan Ruck   \n5042      2004.0           Jon Gunn                     16.0      John August   \n\n      actor_1_facebook_likes      actor_2_name  actor_2_facebook_likes  ...  \\\n0                     1000.0  Joel David Moore                   936.0  ...   \n1                    40000.0     Orlando Bloom                  5000.0  ...   \n2                    11000.0      Rory Kinnear                   393.0  ...   \n3                    27000.0    Christian Bale                 23000.0  ...   \n4                      131.0        Rob Walker                    12.0  ...   \n...                      ...               ...                     ...  ...   \n5038                   637.0     Daphne Zuniga                   470.0  ...   \n5039                   841.0     Valorie Curry                   593.0  ...   \n5040                     0.0     Maxwell Moody                     0.0  ...   \n5041                   946.0     Daniel Henney                   719.0  ...   \n5042                    86.0  Brian Herzlinger                    23.0  ...   \n\n     language  num_critic_for_reviews  num_user_for_reviews  num_voted_users  \\\n0     English                   723.0                3054.0           886204   \n1     English                   302.0                1238.0           471220   \n2     English                   602.0                 994.0           275868   \n3     English                   813.0                2701.0          1144337   \n4         NaN                     NaN                   NaN                8   \n...       ...                     ...                   ...              ...   \n5038  English                     1.0                   6.0              629   \n5039  English                    43.0                 359.0            73839   \n5040  English                    13.0                   3.0               38   \n5041  English                    14.0                   9.0             1255   \n5042  English                    43.0                  84.0             4285   \n\n                                          plot_keywords  color  \\\n0                avatar|future|marine|native|paraplegic  Color   \n1     goddess|marriage ceremony|marriage proposal|pi...  Color   \n2                   bomb|espionage|sequel|spy|terrorist  Color   \n3     deception|imprisonment|lawlessness|police offi...  Color   \n4                                                   NaN    NaN   \n...                                                 ...    ...   \n5038             fraud|postal worker|prison|theft|trial  Color   \n5039       cult|fbi|hideout|prison escape|serial killer  Color   \n5040                                                NaN  Color   \n5041                                                NaN  Color   \n5042  actress name in title|crush|date|four word tit...  Color   \n\n      content_rating duration aspect_ratio  facenumber_in_poster  \n0              PG-13    178.0         1.78                   0.0  \n1              PG-13    169.0         2.35                   0.0  \n2              PG-13    148.0         2.35                   1.0  \n3              PG-13    164.0         2.35                   0.0  \n4                NaN      NaN          NaN                   0.0  \n...              ...      ...          ...                   ...  \n5038             NaN     87.0          NaN                   2.0  \n5039           TV-14     43.0        16.00                   1.0  \n5040             NaN     76.0          NaN                   0.0  \n5041           PG-13    100.0         2.35                   5.0  \n5042              PG     90.0         1.85                   0.0  \n\n[5043 rows x 28 columns]",
      "text/html": "<div>\n<style scoped>\n    .dataframe tbody tr th:only-of-type {\n        vertical-align: middle;\n    }\n\n    .dataframe tbody tr th {\n        vertical-align: top;\n    }\n\n    .dataframe thead th {\n        text-align: right;\n    }\n</style>\n<table border=\"1\" class=\"dataframe\">\n  <thead>\n    <tr style=\"text-align: right;\">\n      <th></th>\n      <th>movie_imdb_link</th>\n      <th>movie_title</th>\n      <th>imdb_score</th>\n      <th>title_year</th>\n      <th>director_name</th>\n      <th>director_facebook_likes</th>\n      <th>actor_1_name</th>\n      <th>actor_1_facebook_likes</th>\n      <th>actor_2_name</th>\n      <th>actor_2_facebook_likes</th>\n      <th>...</th>\n      <th>language</th>\n      <th>num_critic_for_reviews</th>\n      <th>num_user_for_reviews</th>\n      <th>num_voted_users</th>\n      <th>plot_keywords</th>\n      <th>color</th>\n      <th>content_rating</th>\n      <th>duration</th>\n      <th>aspect_ratio</th>\n      <th>facenumber_in_poster</th>\n    </tr>\n  </thead>\n  <tbody>\n    <tr>\n      <th>0</th>\n      <td>http://www.imdb.com/title/tt0499549/?ref_=fn_t...</td>\n      <td>Avatar</td>\n      <td>7.9</td>\n      <td>2009.0</td>\n      <td>James Cameron</td>\n      <td>0.0</td>\n      <td>CCH Pounder</td>\n      <td>1000.0</td>\n      <td>Joel David Moore</td>\n      <td>936.0</td>\n      <td>...</td>\n      <td>English</td>\n      <td>723.0</td>\n      <td>3054.0</td>\n      <td>886204</td>\n      <td>avatar|future|marine|native|paraplegic</td>\n      <td>Color</td>\n      <td>PG-13</td>\n      <td>178.0</td>\n      <td>1.78</td>\n      <td>0.0</td>\n    </tr>\n    <tr>\n      <th>1</th>\n      <td>http://www.imdb.com/title/tt0449088/?ref_=fn_t...</td>\n      <td>Pirates of the Caribbean: At World's End</td>\n      <td>7.1</td>\n      <td>2007.0</td>\n      <td>Gore Verbinski</td>\n      <td>563.0</td>\n      <td>Johnny Depp</td>\n      <td>40000.0</td>\n      <td>Orlando Bloom</td>\n      <td>5000.0</td>\n      <td>...</td>\n      <td>English</td>\n      <td>302.0</td>\n      <td>1238.0</td>\n      <td>471220</td>\n      <td>goddess|marriage ceremony|marriage proposal|pi...</td>\n      <td>Color</td>\n      <td>PG-13</td>\n      <td>169.0</td>\n      <td>2.35</td>\n      <td>0.0</td>\n    </tr>\n    <tr>\n      <th>2</th>\n      <td>http://www.imdb.com/title/tt2379713/?ref_=fn_t...</td>\n      <td>Spectre</td>\n      <td>6.8</td>\n      <td>2015.0</td>\n      <td>Sam Mendes</td>\n      <td>0.0</td>\n      <td>Christoph Waltz</td>\n      <td>11000.0</td>\n      <td>Rory Kinnear</td>\n      <td>393.0</td>\n      <td>...</td>\n      <td>English</td>\n      <td>602.0</td>\n      <td>994.0</td>\n      <td>275868</td>\n      <td>bomb|espionage|sequel|spy|terrorist</td>\n      <td>Color</td>\n      <td>PG-13</td>\n      <td>148.0</td>\n      <td>2.35</td>\n      <td>1.0</td>\n    </tr>\n    <tr>\n      <th>3</th>\n      <td>http://www.imdb.com/title/tt1345836/?ref_=fn_t...</td>\n      <td>The Dark Knight Rises</td>\n      <td>8.5</td>\n      <td>2012.0</td>\n      <td>Christopher Nolan</td>\n      <td>22000.0</td>\n      <td>Tom Hardy</td>\n      <td>27000.0</td>\n      <td>Christian Bale</td>\n      <td>23000.0</td>\n      <td>...</td>\n      <td>English</td>\n      <td>813.0</td>\n      <td>2701.0</td>\n      <td>1144337</td>\n      <td>deception|imprisonment|lawlessness|police offi...</td>\n      <td>Color</td>\n      <td>PG-13</td>\n      <td>164.0</td>\n      <td>2.35</td>\n      <td>0.0</td>\n    </tr>\n    <tr>\n      <th>4</th>\n      <td>http://www.imdb.com/title/tt5289954/?ref_=fn_t...</td>\n      <td>Star Wars: Episode VII - The Force Awakens    ...</td>\n      <td>7.1</td>\n      <td>NaN</td>\n      <td>Doug Walker</td>\n      <td>131.0</td>\n      <td>Doug Walker</td>\n      <td>131.0</td>\n      <td>Rob Walker</td>\n      <td>12.0</td>\n      <td>...</td>\n      <td>NaN</td>\n      <td>NaN</td>\n      <td>NaN</td>\n      <td>8</td>\n      <td>NaN</td>\n      <td>NaN</td>\n      <td>NaN</td>\n      <td>NaN</td>\n      <td>NaN</td>\n      <td>0.0</td>\n    </tr>\n    <tr>\n      <th>...</th>\n      <td>...</td>\n      <td>...</td>\n      <td>...</td>\n      <td>...</td>\n      <td>...</td>\n      <td>...</td>\n      <td>...</td>\n      <td>...</td>\n      <td>...</td>\n      <td>...</td>\n      <td>...</td>\n      <td>...</td>\n      <td>...</td>\n      <td>...</td>\n      <td>...</td>\n      <td>...</td>\n      <td>...</td>\n      <td>...</td>\n      <td>...</td>\n      <td>...</td>\n      <td>...</td>\n    </tr>\n    <tr>\n      <th>5038</th>\n      <td>http://www.imdb.com/title/tt3000844/?ref_=fn_t...</td>\n      <td>Signed Sealed Delivered</td>\n      <td>7.7</td>\n      <td>2013.0</td>\n      <td>Scott Smith</td>\n      <td>2.0</td>\n      <td>Eric Mabius</td>\n      <td>637.0</td>\n      <td>Daphne Zuniga</td>\n      <td>470.0</td>\n      <td>...</td>\n      <td>English</td>\n      <td>1.0</td>\n      <td>6.0</td>\n      <td>629</td>\n      <td>fraud|postal worker|prison|theft|trial</td>\n      <td>Color</td>\n      <td>NaN</td>\n      <td>87.0</td>\n      <td>NaN</td>\n      <td>2.0</td>\n    </tr>\n    <tr>\n      <th>5039</th>\n      <td>http://www.imdb.com/title/tt2071645/?ref_=fn_t...</td>\n      <td>The Following</td>\n      <td>7.5</td>\n      <td>NaN</td>\n      <td>NaN</td>\n      <td>NaN</td>\n      <td>Natalie Zea</td>\n      <td>841.0</td>\n      <td>Valorie Curry</td>\n      <td>593.0</td>\n      <td>...</td>\n      <td>English</td>\n      <td>43.0</td>\n      <td>359.0</td>\n      <td>73839</td>\n      <td>cult|fbi|hideout|prison escape|serial killer</td>\n      <td>Color</td>\n      <td>TV-14</td>\n      <td>43.0</td>\n      <td>16.00</td>\n      <td>1.0</td>\n    </tr>\n    <tr>\n      <th>5040</th>\n      <td>http://www.imdb.com/title/tt2107644/?ref_=fn_t...</td>\n      <td>A Plague So Pleasant</td>\n      <td>6.3</td>\n      <td>2013.0</td>\n      <td>Benjamin Roberds</td>\n      <td>0.0</td>\n      <td>Eva Boehnke</td>\n      <td>0.0</td>\n      <td>Maxwell Moody</td>\n      <td>0.0</td>\n      <td>...</td>\n      <td>English</td>\n      <td>13.0</td>\n      <td>3.0</td>\n      <td>38</td>\n      <td>NaN</td>\n      <td>Color</td>\n      <td>NaN</td>\n      <td>76.0</td>\n      <td>NaN</td>\n      <td>0.0</td>\n    </tr>\n    <tr>\n      <th>5041</th>\n      <td>http://www.imdb.com/title/tt2070597/?ref_=fn_t...</td>\n      <td>Shanghai Calling</td>\n      <td>6.3</td>\n      <td>2012.0</td>\n      <td>Daniel Hsia</td>\n      <td>0.0</td>\n      <td>Alan Ruck</td>\n      <td>946.0</td>\n      <td>Daniel Henney</td>\n      <td>719.0</td>\n      <td>...</td>\n      <td>English</td>\n      <td>14.0</td>\n      <td>9.0</td>\n      <td>1255</td>\n      <td>NaN</td>\n      <td>Color</td>\n      <td>PG-13</td>\n      <td>100.0</td>\n      <td>2.35</td>\n      <td>5.0</td>\n    </tr>\n    <tr>\n      <th>5042</th>\n      <td>http://www.imdb.com/title/tt0378407/?ref_=fn_t...</td>\n      <td>My Date with Drew</td>\n      <td>6.6</td>\n      <td>2004.0</td>\n      <td>Jon Gunn</td>\n      <td>16.0</td>\n      <td>John August</td>\n      <td>86.0</td>\n      <td>Brian Herzlinger</td>\n      <td>23.0</td>\n      <td>...</td>\n      <td>English</td>\n      <td>43.0</td>\n      <td>84.0</td>\n      <td>4285</td>\n      <td>actress name in title|crush|date|four word tit...</td>\n      <td>Color</td>\n      <td>PG</td>\n      <td>90.0</td>\n      <td>1.85</td>\n      <td>0.0</td>\n    </tr>\n  </tbody>\n</table>\n<p>5043 rows × 28 columns</p>\n</div>"
     },
     "metadata": {},
     "output_type": "execute_result",
     "execution_count": 13
    }
   ],
   "source": [
    "df_movies"
   ]
  },
  {
   "cell_type": "code",
   "execution_count": 16,
   "outputs": [
    {
     "data": {
      "text/plain": "       Release Year movie_title Origin/Ethnicity       Director  \\\n15588          2009      Avatar         American  James Cameron   \n\n                                                    Cast  \\\n15588  Sam Worthington, Zoe Saldana, Sigourney Weaver...   \n\n                       Genre  \\\n15588  epic, science fiction   \n\n                                              wiki_page  \\\n15588  https://en.wikipedia.org/wiki/Avatar_(2009_film)   \n\n                                                    Plot  \n15588  In 2154, humans have depleted Earth's natural ...  ",
      "text/html": "<div>\n<style scoped>\n    .dataframe tbody tr th:only-of-type {\n        vertical-align: middle;\n    }\n\n    .dataframe tbody tr th {\n        vertical-align: top;\n    }\n\n    .dataframe thead th {\n        text-align: right;\n    }\n</style>\n<table border=\"1\" class=\"dataframe\">\n  <thead>\n    <tr style=\"text-align: right;\">\n      <th></th>\n      <th>Release Year</th>\n      <th>movie_title</th>\n      <th>Origin/Ethnicity</th>\n      <th>Director</th>\n      <th>Cast</th>\n      <th>Genre</th>\n      <th>wiki_page</th>\n      <th>Plot</th>\n    </tr>\n  </thead>\n  <tbody>\n    <tr>\n      <th>15588</th>\n      <td>2009</td>\n      <td>Avatar</td>\n      <td>American</td>\n      <td>James Cameron</td>\n      <td>Sam Worthington, Zoe Saldana, Sigourney Weaver...</td>\n      <td>epic, science fiction</td>\n      <td>https://en.wikipedia.org/wiki/Avatar_(2009_film)</td>\n      <td>In 2154, humans have depleted Earth's natural ...</td>\n    </tr>\n  </tbody>\n</table>\n</div>"
     },
     "metadata": {},
     "output_type": "execute_result",
     "execution_count": 16
    }
   ],
   "source": [
    "df_wiki = pd.read_csv(\"wiki_movie_plots_deduped.csv\")\n",
    "df_wiki = df_wiki.rename(columns={'Title': 'movie_title', \"Wiki Page\": \"wiki_page\"})\n",
    "test = df_wiki['movie_title']==\"Avatar\"\n",
    "avatar = df_wiki[test]\n",
    "avatar"
   ],
   "metadata": {
    "collapsed": false,
    "pycharm": {
     "name": "#%%\n",
     "is_executing": false
    }
   }
  },
  {
   "cell_type": "code",
   "execution_count": 21,
   "outputs": [
    {
     "data": {
      "text/plain": "Release Year         int64\nmovie_title         object\nOrigin/Ethnicity    object\nDirector            object\nCast                object\nGenre               object\nwiki_page           object\nPlot                object\ndtype: object"
     },
     "metadata": {},
     "output_type": "execute_result",
     "execution_count": 21
    }
   ],
   "source": [
    "df_wiki.dtypes"
   ],
   "metadata": {
    "collapsed": false,
    "pycharm": {
     "name": "#%%\n",
     "is_executing": false
    }
   }
  },
  {
   "cell_type": "code",
   "execution_count": 18,
   "outputs": [
    {
     "data": {
      "text/plain": "Empty DataFrame\nColumns: [movie_imdb_link, movie_title, imdb_score, title_year, director_name, director_facebook_likes, actor_1_name, actor_1_facebook_likes, actor_2_name, actor_2_facebook_likes, actor_3_name, actor_3_facebook_likes, cast_total_facebook_likes, movie_facebook_likes, genres, budget, gross, country, language, num_critic_for_reviews, num_user_for_reviews, num_voted_users, plot_keywords, color, content_rating, duration, aspect_ratio, facenumber_in_poster]\nIndex: []\n\n[0 rows x 28 columns]",
      "text/html": "<div>\n<style scoped>\n    .dataframe tbody tr th:only-of-type {\n        vertical-align: middle;\n    }\n\n    .dataframe tbody tr th {\n        vertical-align: top;\n    }\n\n    .dataframe thead th {\n        text-align: right;\n    }\n</style>\n<table border=\"1\" class=\"dataframe\">\n  <thead>\n    <tr style=\"text-align: right;\">\n      <th></th>\n      <th>movie_imdb_link</th>\n      <th>movie_title</th>\n      <th>imdb_score</th>\n      <th>title_year</th>\n      <th>director_name</th>\n      <th>director_facebook_likes</th>\n      <th>actor_1_name</th>\n      <th>actor_1_facebook_likes</th>\n      <th>actor_2_name</th>\n      <th>actor_2_facebook_likes</th>\n      <th>...</th>\n      <th>language</th>\n      <th>num_critic_for_reviews</th>\n      <th>num_user_for_reviews</th>\n      <th>num_voted_users</th>\n      <th>plot_keywords</th>\n      <th>color</th>\n      <th>content_rating</th>\n      <th>duration</th>\n      <th>aspect_ratio</th>\n      <th>facenumber_in_poster</th>\n    </tr>\n  </thead>\n  <tbody>\n  </tbody>\n</table>\n<p>0 rows × 28 columns</p>\n</div>"
     },
     "metadata": {},
     "output_type": "execute_result",
     "execution_count": 18
    }
   ],
   "source": [
    "df_movies_test = df_movies['movie_title']==\"Avatar\"\n",
    "df_movies_avatar = df_movies[df_movies_test]\n",
    "df_movies_avatar"
   ],
   "metadata": {
    "collapsed": false,
    "pycharm": {
     "name": "#%%\n",
     "is_executing": false
    }
   }
  },
  {
   "cell_type": "code",
   "execution_count": null,
   "outputs": [],
   "source": [
    "merged = pd.merge(df_movies, df_wiki, how=\"left\", on=\"movie_title\")\n",
    "merged[merged.wiki_page.notnull()]\n"
   ],
   "metadata": {
    "collapsed": false,
    "pycharm": {
     "name": "#%%\n"
    }
   }
  }
 ],
 "metadata": {
  "celltoolbar": "Tags",
  "kernelspec": {
   "display_name": "Python 3",
   "language": "python",
   "name": "python3"
  },
  "language_info": {
   "codemirror_mode": {
    "name": "ipython",
    "version": 3
   },
   "file_extension": ".py",
   "mimetype": "text/x-python",
   "name": "python",
   "nbconvert_exporter": "python",
   "pygments_lexer": "ipython3",
   "version": "3.7.4"
  },
  "pycharm": {
   "stem_cell": {
    "cell_type": "raw",
    "source": [],
    "metadata": {
     "collapsed": false
    }
   }
  }
 },
 "nbformat": 4,
 "nbformat_minor": 2
}