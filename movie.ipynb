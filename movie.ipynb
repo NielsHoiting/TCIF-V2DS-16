{
 "cells": [
  {
   "cell_type": "markdown",
   "metadata": {},
   "source": [
    "# IMDB"
   ]
  },
  {
   "cell_type": "markdown",
   "metadata": {},
   "source": []
  },
  {
   "cell_type": "code",
   "execution_count": null,
   "metadata": {
    "tags": [
     "student"
    ]
   },
   "outputs": [],
   "source": [
    "import pandas as pd\n",
    "import numpy as np\n",
    "import matplotlib.pyplot as plt"
   ]
  },
  {
   "cell_type": "code",
   "execution_count": null,
   "metadata": {
    "tags": [
     "student"
    ]
   },
   "outputs": [],
   "source": [
    "df_movies = pd.read_csv('movie.csv') \n"
   ]
  },
  {
   "cell_type": "code",
   "execution_count": null,
   "metadata": {},
   "outputs": [],
   "source": [
    "df_movies = df_movies[['movie_imdb_link', 'movie_title', 'imdb_score', 'title_year', 'director_name', 'director_facebook_likes', 'actor_1_name',\n",
    "                      'actor_1_facebook_likes', 'actor_2_name', 'actor_2_facebook_likes', 'actor_3_name', 'actor_3_facebook_likes',\n",
    "                      'cast_total_facebook_likes', 'movie_facebook_likes', 'genres', 'budget', 'gross', 'country', 'language',\n",
    "                      'num_critic_for_reviews', 'num_user_for_reviews', 'num_voted_users', 'plot_keywords', 'color', 'content_rating',\n",
    "                      'duration', 'aspect_ratio', 'facenumber_in_poster']]"
   ]
  },
  {
   "cell_type": "markdown",
   "metadata": {},
   "source": [
    "|Column   |Description  |Type |NaN? |   |\n",
    "|---|---|---|---|---|\n",
    "| movie_imdb_link  |   |   |   |   |\n",
    "| movie_title  |   |   |   |   |\n",
    "| imdb_score  |   |   |   |   |\n",
    "| title_year  |   |   |   |   |\n",
    "| director_name  |   |   |   |   |\n",
    "| director_facebook_likes  |   |   |   |   |\n",
    "| actor_1_name  |   |   |   |   |\n",
    "| actor_1_facebook_likes  |   |   |   |   |\n",
    "| actor_2_name  |   |   |   |   |\n",
    "| actor_2_facebook_likes  |   |   |   |   |\n",
    "| actor_3_name  |   |   |   |   |\n",
    "| actor_3_facebook_likes  |   |   |   |   |\n",
    "| cast_total_facebook_likes  |   |   |   |   |\n",
    "| movie_facebook_likes  |   |   |   |   |\n",
    "| genres  |   |   |   |   |\n",
    "| budget  |   |   |   |   |\n",
    "| gross  |   |   |   |   |\n",
    "| country  |   |   |   |   |\n",
    "| language  |   |   |   |   |\n",
    "| num_critic_for_reviews  |   |   |   |   |\n",
    "| num_user_for_reviews  |   |   |   |   |\n",
    "| num_voted_users  |   |   |   |   |\n",
    "| plot_keywords  |   |   |   |   |\n",
    "| color |   |   |   |   |\n",
    "| content_rating  |   |   |   |   |\n",
    "| duration  |   |   |   |   |\n",
    "| aspect_ratio  |   |   |   |   |\n",
    "| facenumber_in_poster  |   |   |   |   |"
   ]
  },
  {
   "cell_type": "code",
   "execution_count": null,
   "metadata": {},
   "outputs": [],
   "source": [
    "movies.describe"
   ]
  },
  {
   "cell_type": "code",
   "execution_count": null,
   "metadata": {},
   "outputs": [],
   "source": []
  }
 ],
 "metadata": {
  "celltoolbar": "Tags",
  "kernelspec": {
   "display_name": "Python 3",
   "language": "python",
   "name": "python3"
  },
  "language_info": {
   "codemirror_mode": {
    "name": "ipython",
    "version": 3
   },
   "file_extension": ".py",
   "mimetype": "text/x-python",
   "name": "python",
   "nbconvert_exporter": "python",
   "pygments_lexer": "ipython3",
   "version": "3.7.4"
  }
 },
 "nbformat": 4,
 "nbformat_minor": 2
}
