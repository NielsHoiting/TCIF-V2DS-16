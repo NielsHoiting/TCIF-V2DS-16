{
 "cells": [
  {
   "cell_type": "markdown",
   "metadata": {},
   "source": [
    "# IMDB\n",
    "\n",
    "## Research questions\n",
    "1. What is the correlation between the gender of actors and the popularity of the movie. How does this change overtime?\n",
    "2. What is the correlation between duration and budget of movies.\n",
    "3. To what extend can you predict the gross of a movie based on its popularity on Facebook and IMDB.\n",
    "4. What happends if you cluster keywords?\n"
   ]
  },
  {
   "cell_type": "markdown",
   "metadata": {},
   "source": []
  },
  {
   "cell_type": "code",
   "execution_count": null,
   "metadata": {
    "tags": [
     "student"
    ]
   },
   "outputs": [],
   "source": [
    "import pandas as pd\n",
    "import numpy as np\n",
    "import matplotlib.pyplot as plt"
   ]
  },
  {
   "cell_type": "code",
   "execution_count": null,
   "metadata": {
    "tags": [
     "student"
    ]
   },
   "outputs": [],
   "source": [
    "df_movies = pd.read_csv('movie.csv') \n"
   ]
  },
  {
   "cell_type": "code",
   "execution_count": null,
   "metadata": {},
   "outputs": [],
   "source": [
    "df_movies = df_movies[['movie_imdb_link', 'movie_title', 'imdb_score', 'title_year', 'director_name', 'director_facebook_likes', 'actor_1_name',\n",
    "                      'actor_1_facebook_likes', 'actor_2_name', 'actor_2_facebook_likes', 'actor_3_name', 'actor_3_facebook_likes',\n",
    "                      'cast_total_facebook_likes', 'movie_facebook_likes', 'genres', 'budget', 'gross', 'country', 'language',\n",
    "                      'num_critic_for_reviews', 'num_user_for_reviews', 'num_voted_users', 'plot_keywords', 'color', 'content_rating',\n",
    "                      'duration', 'aspect_ratio', 'facenumber_in_poster']]"
   ]
  },
  {
   "cell_type": "markdown",
   "metadata": {},
   "source": [
    "|Column   |Description  | Notes |Type |  NaN? |\n",
    "|---|---|---|---|---|\n",
    "| movie_imdb_link  |   |   | String  |   |\n",
    "| movie_title  |   |   |  String |   |\n",
    "| imdb_score  |   |   |  Float64 |   |\n",
    "| title_year  |   |   |  float64 |   |\n",
    "| director_name  |   |   |  String |   |\n",
    "| director_facebook_likes  |   |   |  Float64 |   |\n",
    "| actor_1_name  |   |   |  String | Y  |\n",
    "| actor_1_facebook_likes  |  | ~10% missing | Float64  | Y  |\n",
    "| actor_2_name  |   |   |  String | Y  |\n",
    "| actor_2_facebook_likes  |   |   | Float64  | Y  |\n",
    "| actor_3_name  |   |   | String  |  Y |\n",
    "| actor_3_facebook_likes  |   |   | Float64 | Y  |\n",
    "| cast_total_facebook_likes  |   |   |  Int64 | Y |\n",
    "| movie_facebook_likes  |   | ~50% missing | Int64  |   |\n",
    "| genres  |   |   |  String |   |\n",
    "| budget  |   | ~350 missing | Float64  |   |\n",
    "| gross  |   |   |  Float64 |   |\n",
    "| country  |   |   | String  |   |\n",
    "| language  |   |   | String  |   |\n",
    "| num_critic_for_reviews  |   |   | Float64  |   |\n",
    "| num_user_for_reviews  |   |   | Float64  |   |\n",
    "| num_voted_users  |   |   | Int64  |   |\n",
    "| plot_keywords  |   |   | String  |   |\n",
    "| color |   |   |  String |   |\n",
    "| content_rating  |   |   | String  |   |\n",
    "| duration  |   |   | Float64  |   |\n",
    "| aspect_ratio  |   |   | Float64  |   |\n",
    "| facenumber_in_poster  |   |   | Float64  |   |"
   ]
  },
  {
   "cell_type": "code",
   "execution_count": 4,
   "metadata": {
    "pycharm": {
     "is_executing": false
    }
   },
   "outputs": [
    {
     "data": {
      "text/plain": [
       "movie_imdb_link               object\n",
       "movie_title                   object\n",
       "imdb_score                   float64\n",
       "title_year                   float64\n",
       "director_name                 object\n",
       "director_facebook_likes      float64\n",
       "actor_1_name                  object\n",
       "actor_1_facebook_likes       float64\n",
       "actor_2_name                  object\n",
       "actor_2_facebook_likes       float64\n",
       "actor_3_name                  object\n",
       "actor_3_facebook_likes       float64\n",
       "cast_total_facebook_likes      int64\n",
       "movie_facebook_likes           int64\n",
       "genres                        object\n",
       "budget                       float64\n",
       "gross                        float64\n",
       "country                       object\n",
       "language                      object\n",
       "num_critic_for_reviews       float64\n",
       "num_user_for_reviews         float64\n",
       "num_voted_users                int64\n",
       "plot_keywords                 object\n",
       "color                         object\n",
       "content_rating                object\n",
       "duration                     float64\n",
       "aspect_ratio                 float64\n",
       "facenumber_in_poster         float64\n",
       "dtype: object"
      ]
     },
     "execution_count": 4,
     "metadata": {},
     "output_type": "execute_result"
    }
   ],
   "source": [
    "df_movies.dtypes"
   ]
  },
  {
   "cell_type": "code",
   "execution_count": null,
   "metadata": {},
   "outputs": [],
   "source": []
  }
 ],
 "metadata": {
  "celltoolbar": "Tags",
  "kernelspec": {
   "display_name": "Python 3",
   "language": "python",
   "name": "python3"
  },
  "language_info": {
   "codemirror_mode": {
    "name": "ipython",
    "version": 3
   },
   "file_extension": ".py",
   "mimetype": "text/x-python",
   "name": "python",
   "nbconvert_exporter": "python",
   "pygments_lexer": "ipython3",
   "version": "3.7.4"
  },
  "pycharm": {
   "stem_cell": {
    "cell_type": "raw",
    "metadata": {
     "collapsed": false
    },
    "source": []
   }
  }
 },
 "nbformat": 4,
 "nbformat_minor": 2
}
